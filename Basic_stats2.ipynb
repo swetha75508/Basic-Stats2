{
 "cells": [
  {
   "cell_type": "markdown",
   "id": "11e2211b-8b38-4ca6-9a58-9717e1f3487f",
   "metadata": {},
   "source": [
    "# Build 99% Confidence Interval Using Sample Standard Deviation"
   ]
  },
  {
   "cell_type": "code",
   "execution_count": 14,
   "id": "c6e61f80-84cf-4f6b-9af1-aa6195a1c63a",
   "metadata": {},
   "outputs": [
    {
     "data": {
      "text/plain": [
       "[1.13,\n",
       " 1.55,\n",
       " 1.43,\n",
       " 0.92,\n",
       " 1.25,\n",
       " 1.36,\n",
       " 1.32,\n",
       " 0.85,\n",
       " 1.07,\n",
       " 1.48,\n",
       " 1.2,\n",
       " 1.33,\n",
       " 1.18,\n",
       " 1.22,\n",
       " 1.29]"
      ]
     },
     "execution_count": 14,
     "metadata": {},
     "output_type": "execute_result"
    }
   ],
   "source": [
    "data=[1.13, 1.55, 1.43, 0.92, 1.25, 1.36, 1.32, 0.85, 1.07, 1.48, 1.20, 1.33, 1.18, 1.22, 1.29]\n",
    "data"
   ]
  },
  {
   "cell_type": "code",
   "execution_count": 8,
   "id": "671521d7-f007-4f5a-863c-9a60a5900fc8",
   "metadata": {},
   "outputs": [],
   "source": [
    "import numpy as np\n",
    "import scipy.stats as stats"
   ]
  },
  {
   "cell_type": "code",
   "execution_count": 26,
   "id": "1b55f786-f4f7-40c6-b883-c31e1f2c3838",
   "metadata": {},
   "outputs": [
    {
     "data": {
      "text/plain": [
       "15"
      ]
     },
     "execution_count": 26,
     "metadata": {},
     "output_type": "execute_result"
    }
   ],
   "source": [
    "len(data)"
   ]
  },
  {
   "cell_type": "code",
   "execution_count": 30,
   "id": "85ae4635-3986-40ff-8b9e-ede8dfdb4eba",
   "metadata": {},
   "outputs": [
    {
     "data": {
      "text/plain": [
       "1.2386666666666666"
      ]
     },
     "execution_count": 30,
     "metadata": {},
     "output_type": "execute_result"
    }
   ],
   "source": [
    "mean = np.mean(data)\n",
    "mean"
   ]
  },
  {
   "cell_type": "code",
   "execution_count": 34,
   "id": "ac028edd-7f41-44a5-bd75-348b0fc8ea2c",
   "metadata": {},
   "outputs": [
    {
     "data": {
      "text/plain": [
       "0.18661427836285438"
      ]
     },
     "execution_count": 34,
     "metadata": {},
     "output_type": "execute_result"
    }
   ],
   "source": [
    "std_dev = np.std(data)\n",
    "std_dev"
   ]
  },
  {
   "cell_type": "code",
   "execution_count": 46,
   "id": "e089d279-f936-46a3-ba44-98e41412862a",
   "metadata": {},
   "outputs": [
    {
     "data": {
      "text/plain": [
       "0.99"
      ]
     },
     "execution_count": 46,
     "metadata": {},
     "output_type": "execute_result"
    }
   ],
   "source": [
    "# confidence level \n",
    "confidence_level = 0.99\n",
    "confidence_level"
   ]
  },
  {
   "cell_type": "code",
   "execution_count": 54,
   "id": "fbb49f34-6fb5-4a0c-b58b-9b82fcd56b55",
   "metadata": {},
   "outputs": [
    {
     "data": {
      "text/plain": [
       "array([ 40.55185369,  16.48368062,  20.08233292,  90.04955521,\n",
       "        29.27201895,  22.94715953,  24.94087204, 129.27429484,\n",
       "        49.19832425,  18.41543225,  33.2390283 ,  24.41399137,\n",
       "        35.0893006 ,  31.54790791,  26.64958477])"
      ]
     },
     "execution_count": 54,
     "metadata": {},
     "output_type": "execute_result"
    }
   ],
   "source": [
    "# confidence level : 0.99\n",
    "t_critical = stats.t.ppf((1 + confidence_level) / 2,data)\n",
    "t_critical"
   ]
  },
  {
   "cell_type": "code",
   "execution_count": 58,
   "id": "18232c9c-933e-45e7-a8d8-27e740f2d1c6",
   "metadata": {},
   "outputs": [
    {
     "data": {
      "text/plain": [
       "1.902145040083323"
      ]
     },
     "execution_count": 58,
     "metadata": {},
     "output_type": "execute_result"
    }
   ],
   "source": [
    "# margin of error\n",
    "margin_of_error = t_critical * (std_dev / np.sqrt(n))\n",
    "margin_of_error"
   ]
  },
  {
   "cell_type": "code",
   "execution_count": 60,
   "id": "2164d36e-6910-4120-9bd3-e9000213f493",
   "metadata": {},
   "outputs": [
    {
     "data": {
      "text/plain": [
       "(-0.6634783734166565, 3.1408117067499894)"
      ]
     },
     "execution_count": 60,
     "metadata": {},
     "output_type": "execute_result"
    }
   ],
   "source": [
    "# confidence interval\n",
    "confidence_interval = (mean - margin_of_error , mean + margin_of_error)\n",
    "confidence_interval "
   ]
  },
  {
   "cell_type": "code",
   "execution_count": 62,
   "id": "86b4298c-20c4-4270-97db-66287b1442e4",
   "metadata": {},
   "outputs": [
    {
     "name": "stdout",
     "output_type": "stream",
     "text": [
      "99% Confidence Interval : (-0.6634783734166565, 3.1408117067499894)\n"
     ]
    }
   ],
   "source": [
    "print(f\"99% Confidence Interval : {confidence_interval }\")"
   ]
  },
  {
   "cell_type": "markdown",
   "id": "31c5366a-a3fd-41cc-8e38-1a18de8d31b4",
   "metadata": {},
   "source": [
    "# Build 99% Confidence Interval Using Known Population Standard Deviation"
   ]
  },
  {
   "cell_type": "code",
   "execution_count": 121,
   "id": "4422a211-2a7a-45a0-8ada-05ebee5cdf4d",
   "metadata": {},
   "outputs": [],
   "source": [
    "import statistics\n",
    "import numpy as np"
   ]
  },
  {
   "cell_type": "code",
   "execution_count": 145,
   "id": "72d86ddc-6e7d-413a-9a0d-b6838bf67d99",
   "metadata": {},
   "outputs": [
    {
     "data": {
      "text/plain": [
       "0.18661427836285438"
      ]
     },
     "execution_count": 145,
     "metadata": {},
     "output_type": "execute_result"
    }
   ],
   "source": [
    "population_std_dev = np.std(data)\n",
    "population_std_dev"
   ]
  },
  {
   "cell_type": "code",
   "execution_count": 69,
   "id": "342fea9d-394b-42d9-9175-5a1bf08b4fef",
   "metadata": {},
   "outputs": [
    {
     "data": {
      "text/plain": [
       "2.5758293035489004"
      ]
     },
     "execution_count": 69,
     "metadata": {},
     "output_type": "execute_result"
    }
   ],
   "source": [
    "# z-score for 99% confidence interval\n",
    "z_score = stats.norm.ppf(0.995) # 99% confidence interval, so 0.995 for one-tailed\n",
    "z_score"
   ]
  },
  {
   "cell_type": "code",
   "execution_count": 137,
   "id": "109084ad-19ad-4486-9a54-11633cc718d6",
   "metadata": {},
   "outputs": [
    {
     "data": {
      "text/plain": [
       "0.12411272750201201"
      ]
     },
     "execution_count": 137,
     "metadata": {},
     "output_type": "execute_result"
    }
   ],
   "source": [
    "# margin of error\n",
    "margin_of_error = z_score * (population_std_dev / np.sqrt(n))\n",
    "margin_of_error"
   ]
  },
  {
   "cell_type": "code",
   "execution_count": 141,
   "id": "5683ac6a-d5ff-4bf4-ae35-306eb8461f62",
   "metadata": {},
   "outputs": [
    {
     "data": {
      "text/plain": [
       "(1.1145539391646546, 1.3627793941686785)"
      ]
     },
     "execution_count": 141,
     "metadata": {},
     "output_type": "execute_result"
    }
   ],
   "source": [
    "confidence_interval = (mean - margin_of_error , mean + margin_of_error)\n",
    "confidence_interval"
   ]
  },
  {
   "cell_type": "code",
   "execution_count": 147,
   "id": "059718d9-04f3-4390-ab38-e9e5f0ac8bbf",
   "metadata": {},
   "outputs": [
    {
     "name": "stdout",
     "output_type": "stream",
     "text": [
      "99% Confidence Interval : (1.1145539391646546, 1.3627793941686785)\n"
     ]
    }
   ],
   "source": [
    "print(f\"99% Confidence Interval : {confidence_interval}\")"
   ]
  }
 ],
 "metadata": {
  "kernelspec": {
   "display_name": "Python 3 (ipykernel)",
   "language": "python",
   "name": "python3"
  },
  "language_info": {
   "codemirror_mode": {
    "name": "ipython",
    "version": 3
   },
   "file_extension": ".py",
   "mimetype": "text/x-python",
   "name": "python",
   "nbconvert_exporter": "python",
   "pygments_lexer": "ipython3",
   "version": "3.12.4"
  }
 },
 "nbformat": 4,
 "nbformat_minor": 5
}
